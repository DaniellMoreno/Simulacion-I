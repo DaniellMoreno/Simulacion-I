{
 "cells": [
  {
   "cell_type": "code",
   "execution_count": 5,
   "metadata": {
    "collapsed": false
   },
   "outputs": [
    {
     "name": "stdout",
     "output_type": "stream",
     "text": [
      "Ingrese valor semilla: 23\n",
      "5\n",
      "0\n",
      "0\n"
     ]
    }
   ],
   "source": [
    "semilla = int(input(\"Ingrese valor semilla: \"))\n",
    "already_seen = list()\n",
    "while semilla not in already_seen:\n",
    "    already_seen.append(semilla)\n",
    "    semilla = int(str(semilla * semilla).zfill(8)[2:6])\n",
    "    print(semilla)\n"
   ]
  },
  {
   "cell_type": "code",
   "execution_count": null,
   "metadata": {
    "collapsed": true
   },
   "outputs": [],
   "source": []
  }
 ],
 "metadata": {
  "kernelspec": {
   "display_name": "Python 2",
   "language": "python",
   "name": "python2"
  },
  "language_info": {
   "codemirror_mode": {
    "name": "ipython",
    "version": 2
   },
   "file_extension": ".py",
   "mimetype": "text/x-python",
   "name": "python",
   "nbconvert_exporter": "python",
   "pygments_lexer": "ipython2",
   "version": "2.7.11"
  }
 },
 "nbformat": 4,
 "nbformat_minor": 0
}
