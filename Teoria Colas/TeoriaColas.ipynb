miu = float(input("tasa servicio: "))
landa = float(input("tasa llegadas: "))

p = float(0)
ls = float(0)
ws = float(0)
lq = float(0)
wq = float(0)
po = float(0)

p = landa / miu
ls = landa / (miu - landa)
ws = 1 / (miu - landa)
lq = (landa*landa)/(miu*(miu - landa))
wq = landa / (miu*(miu - landa))
po = 1 - p 
    
print "uso del sistema (P): ",p
print "cantidad de personas en el sistema (Ls): ",ls
print "tiempo en el sistema (Ws): ",ws
print "cantidad de personas en la cola (Lq): ",lq
print "cantidad de tiempo en la cola (Wq): ",wq
print "probabilidad sistema se encuentre desocupado (Po): ",po