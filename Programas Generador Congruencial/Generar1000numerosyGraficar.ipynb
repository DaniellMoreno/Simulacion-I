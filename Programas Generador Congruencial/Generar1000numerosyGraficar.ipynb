{
 "cells": [
  {
   "cell_type": "code",
   "execution_count": null,
   "metadata": {
    "collapsed": false
   },
   "outputs": [],
   "source": [
    "import sys\n",
    "\n",
    "from matplotlib.pylab import hist, show\n",
    "datos=[]\n",
    "a = int (raw_input(\"Ingrese valor de constante multiplicativa: \"))\n",
    "xo= int (raw_input(\"Ingrese valor de semilla inicial \"))\n",
    "c = int (raw_input(\"Ingrese valor de constante aditiva \"))\n",
    "m = int (raw_input(\"Ingrese valor de modulo \"))\n",
    "cantidad = int(input(\"Cantidad: \"))\n",
    "xoinicial = xo\n",
    "\n",
    " \n",
    "print 'n   Xo   (aXo + c) modm   Xn + 1   Numero Rectangular '\n",
    "for i in range (0,cantidad,1):\n",
    "    i += 1\n",
    "    div = ((a * xo) + c)/m\n",
    "    mod = ((a*xo)+c)%m\n",
    "    nr = float((mod+.0) / (m+.0))\n",
    "    print \"%d   %d     %d  +   %d/%d      %d        %f  \"%(i, xo, div, mod, m, mod, nr)\n",
    "    xo = mod\n",
    "    datos.append(nr)\n",
    "hist(datos,cantidad, (0,1))\n",
    "show()"
   ]
  },
  {
   "cell_type": "code",
   "execution_count": null,
   "metadata": {
    "collapsed": true
   },
   "outputs": [],
   "source": []
  },
  {
   "cell_type": "code",
   "execution_count": null,
   "metadata": {
    "collapsed": true
   },
   "outputs": [],
   "source": []
  }
 ],
 "metadata": {
  "kernelspec": {
   "display_name": "Python 2",
   "language": "python",
   "name": "python2"
  },
  "language_info": {
   "codemirror_mode": {
    "name": "ipython",
    "version": 2
   },
   "file_extension": ".py",
   "mimetype": "text/x-python",
   "name": "python",
   "nbconvert_exporter": "python",
   "pygments_lexer": "ipython2",
   "version": "2.7.11"
  }
 },
 "nbformat": 4,
 "nbformat_minor": 0
}
