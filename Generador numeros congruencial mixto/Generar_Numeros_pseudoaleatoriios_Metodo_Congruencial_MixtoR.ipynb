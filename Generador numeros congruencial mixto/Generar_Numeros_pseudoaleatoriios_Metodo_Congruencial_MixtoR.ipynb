{
 "cells": [
  {
   "cell_type": "code",
   "execution_count": 4,
   "metadata": {
    "collapsed": false
   },
   "outputs": [
    {
     "name": "stdout",
     "output_type": "stream",
     "text": [
      "Ingrese valor de constante multiplicativa: 7\n",
      "Ingrese valor de semilla inicial 2\n",
      "Ingrese valor de constante aditiva 45\n",
      "Ingrese valor de modulo 11\n",
      "n   Xo   (aXo + c) modm   Xn + 1   Numero Rectangular \n",
      "1   2     5  +   4/11      4        0.363636  \n",
      "2   4     6  +   7/11      7        0.636364  \n",
      "3   7     8  +   6/11      6        0.545455  \n",
      "4   6     7  +   10/11      10        0.909091  \n",
      "5   10     10  +   5/11      5        0.454545  \n",
      "6   5     7  +   3/11      3        0.272727  \n",
      "7   3     6  +   0/11      0        0.000000  \n",
      "8   0     4  +   1/11      1        0.090909  \n",
      "9   1     4  +   8/11      8        0.727273  \n",
      "10   8     9  +   2/11      2        0.181818  \n",
      "11   2     5  +   4/11      4        0.363636  \n"
     ]
    }
   ],
   "source": [
    "import sys\n",
    " \n",
    "a = int (raw_input(\"Ingrese valor de constante multiplicativa: \"))\n",
    "xo= int (raw_input(\"Ingrese valor de semilla inicial \"))\n",
    "c = int (raw_input(\"Ingrese valor de constante aditiva \"))\n",
    "m = int (raw_input(\"Ingrese valor de modulo \"))\n",
    "xoinicial = xo\n",
    " \n",
    "print 'n   Xo   (aXo + c) modm   Xn + 1   Numero Rectangular '\n",
    " \n",
    "for i in range (m):\n",
    "    i += 1\n",
    "    div = ((a * xo) + c)/m\n",
    "    mod = ((a*xo)+c)%m\n",
    "    nr = float((mod+.0) / (m+.0))\n",
    "    print \"%d   %d     %d  +   %d/%d      %d        %f  \"%(i, xo, div, mod, m, mod, nr)\n",
    "    xo = mod"
   ]
  },
  {
   "cell_type": "code",
   "execution_count": null,
   "metadata": {
    "collapsed": true
   },
   "outputs": [],
   "source": []
  }
 ],
 "metadata": {
  "kernelspec": {
   "display_name": "Python 2",
   "language": "python",
   "name": "python2"
  },
  "language_info": {
   "codemirror_mode": {
    "name": "ipython",
    "version": 2
   },
   "file_extension": ".py",
   "mimetype": "text/x-python",
   "name": "python",
   "nbconvert_exporter": "python",
   "pygments_lexer": "ipython2",
   "version": "2.7.11"
  }
 },
 "nbformat": 4,
 "nbformat_minor": 0
}
